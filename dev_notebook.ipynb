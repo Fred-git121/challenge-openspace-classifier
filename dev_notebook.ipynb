{
 "cells": [
  {
   "metadata": {
    "ExecuteTime": {
     "end_time": "2025-10-24T12:19:26.800942Z",
     "start_time": "2025-10-24T12:19:26.798522Z"
    }
   },
   "cell_type": "code",
   "source": [
    "from virtualenv.config.convert import BoolType\n",
    "\n",
    "new_collegues = [\"Aleksei\",\"Amine\",\"Anna\",\"Astha\",\"Brigitta\",\n",
    "                 \"Bryan\",\"Ena\",\"Esra\",\"Faranges\",\"Frédéric\",\n",
    "                 \"Hamideh\",\"Héloïse\",\"Imran\",\"Intan K.\",\n",
    "                 \"Jens\",\"Kristin\",\"Michiel\",\"Nancy\",\"Pierrick\",\n",
    "                 \"Sandrine\",\"Tim\",\"Viktor\",\"Welederufeal\",\"Živile\"]"
   ],
   "id": "a6e3cedf58f2c482",
   "outputs": [],
   "execution_count": 51
  },
  {
   "metadata": {},
   "cell_type": "markdown",
   "source": "## Step 1: Build a seat",
   "id": "27a28af9892a9668"
  },
  {
   "metadata": {
    "ExecuteTime": {
     "end_time": "2025-10-24T12:19:26.808089Z",
     "start_time": "2025-10-24T12:19:26.805733Z"
    }
   },
   "cell_type": "code",
   "source": [
    "class Seat:\n",
    "    def __init__(self):\n",
    "        self.is_free = True\n",
    "        self.occupant = None\n",
    "\n",
    "    def set_occupant(self, name):\n",
    "        if self.is_free:\n",
    "            self.occupant = name\n",
    "            self.is_free = False\n",
    "        else:\n",
    "            print(\"Seat is already taken.\")\n",
    "\n",
    "    def remove_occupant(self) -> str:\n",
    "        if not self.is_free:\n",
    "            print(f\"Removing occupant {self.occupant} from seat.\")\n",
    "            last_occupant = self.occupant\n",
    "            self.is_free = True\n",
    "            self.occupant = None\n",
    "            return last_occupant\n",
    "        else:\n",
    "            return \"The seat is already free.\"\n",
    "\n",
    "    def __str__(self):\n",
    "        if self.occupant is None:\n",
    "            return \"The seat is empty.\"\n",
    "        else:\n",
    "            return f\"Occupant of the seat : {self.occupant}.\"\n"
   ],
   "id": "5a0c12a2221274f5",
   "outputs": [],
   "execution_count": 52
  },
  {
   "metadata": {
    "ExecuteTime": {
     "end_time": "2025-10-24T12:19:26.814068Z",
     "start_time": "2025-10-24T12:19:26.811541Z"
    }
   },
   "cell_type": "code",
   "source": [
    "# Code testing\n",
    "seat = Seat()\n",
    "seat.set_occupant(\"Fred\")\n",
    "print(seat)\n",
    "seat.remove_occupant()\n",
    "print(seat)\n",
    "seat.remove_occupant()"
   ],
   "id": "aa5e807ab579f962",
   "outputs": [
    {
     "name": "stdout",
     "output_type": "stream",
     "text": [
      "Occupant of the seat : Fred.\n",
      "Removing occupant Fred from seat.\n",
      "The seat is empty.\n"
     ]
    },
    {
     "data": {
      "text/plain": [
       "'The seat is already free.'"
      ]
     },
     "execution_count": 53,
     "metadata": {},
     "output_type": "execute_result"
    }
   ],
   "execution_count": 53
  },
  {
   "metadata": {},
   "cell_type": "markdown",
   "source": "## Step 2: Build a table",
   "id": "8d8e61e6b2c0b550"
  },
  {
   "metadata": {
    "ExecuteTime": {
     "end_time": "2025-10-24T12:19:26.823401Z",
     "start_time": "2025-10-24T12:19:26.820805Z"
    }
   },
   "cell_type": "code",
   "source": [
    "import itertools\n",
    "\n",
    "class Table:\n",
    "    _ids = itertools.count(1)\n",
    "\n",
    "    def __init__(self, capacity: int) -> None:\n",
    "        self.number = next(Table._ids)\n",
    "        self.capacity = capacity\n",
    "        self.seats = [Seat() for _ in range(self.capacity)]\n",
    "\n",
    "    def has_free_spot(self) -> bool:\n",
    "        return any(seat.is_free for seat in self.seats)\n",
    "\n",
    "    def assign_seat(self, name: str) -> bool:\n",
    "        for seat in self.seats:\n",
    "            if seat.is_free:\n",
    "                seat.set_occupant(name)\n",
    "                print(f\"{name} has been seated at Table {self.number}\")\n",
    "                return True\n",
    "        return False\n",
    "\n",
    "    def left_capacity(self) -> int:\n",
    "        count = 0\n",
    "        for seat in self.seats:\n",
    "            if seat.is_free:\n",
    "                count += 1\n",
    "        return count\n",
    "\n",
    "\n",
    "    def __str__(self):\n",
    "        return f\"Table {self.number} (Capacity : {self.capacity} | Free spots : {self.left_capacity()})\"\n",
    "\n",
    "\n"
   ],
   "id": "da8cb28d7ea728f6",
   "outputs": [],
   "execution_count": 54
  },
  {
   "metadata": {
    "ExecuteTime": {
     "end_time": "2025-10-24T12:19:26.831420Z",
     "start_time": "2025-10-24T12:19:26.829036Z"
    }
   },
   "cell_type": "code",
   "source": [
    "# Code Testing\n",
    "table = Table(4)\n",
    "\n",
    "table.assign_seat(\"Fred\")\n",
    "table.assign_seat(\"Bob\")\n",
    "table.assign_seat(\"Alice\")\n",
    "table.assign_seat(\"John\")\n",
    "table.has_free_spot()\n",
    "\n",
    "print(\"\\nCurrent table status:\")\n",
    "print(table)\n",
    "table.left_capacity()\n",
    "\n"
   ],
   "id": "562bf082b17d8c3f",
   "outputs": [
    {
     "name": "stdout",
     "output_type": "stream",
     "text": [
      "Fred has been seated at Table 1\n",
      "Bob has been seated at Table 1\n",
      "Alice has been seated at Table 1\n",
      "John has been seated at Table 1\n",
      "\n",
      "Current table status:\n",
      "Table 1 (Capacity : 4 | Free spots : 0)\n"
     ]
    },
    {
     "data": {
      "text/plain": [
       "0"
      ]
     },
     "execution_count": 55,
     "metadata": {},
     "output_type": "execute_result"
    }
   ],
   "execution_count": 55
  },
  {
   "metadata": {},
   "cell_type": "markdown",
   "source": "## Step 3: Build an OpenSpace",
   "id": "6077fc2ef3f4bff3"
  },
  {
   "metadata": {
    "ExecuteTime": {
     "end_time": "2025-10-24T12:19:26.838820Z",
     "start_time": "2025-10-24T12:19:26.836867Z"
    }
   },
   "cell_type": "code",
   "source": [
    "#from table import Table\n",
    "\n",
    "class Openspace:\n",
    "    def __init__(self, tables: list) -> None:\n",
    "        self.tables = tables\n",
    "        self.number_of_tables = len(tables)\n",
    "\n",
    "    def organize_tables(self) -> list:\n",
    "        tables = []\n",
    "        for table in self.tables:\n",
    "            tables.append(table)\n",
    "    def display_tables(self) -> list:\n",
    "        for table in self.tables:\n",
    "            print(table)\n",
    "            for i, seat in enumerate(table.seats, start=1):\n",
    "                status = seat.occupant if not seat.is_free else \"Empty\"\n",
    "                print(f\"   Seat {i}: {status}\")"
   ],
   "id": "383faebcb02525e4",
   "outputs": [],
   "execution_count": 56
  },
  {
   "metadata": {
    "ExecuteTime": {
     "end_time": "2025-10-24T12:19:26.855064Z",
     "start_time": "2025-10-24T12:19:26.852874Z"
    }
   },
   "cell_type": "code",
   "source": [
    "# Code testing\n",
    "\n",
    "# Create a few tables\n",
    "t2 = Table(3)\n",
    "t3 = Table(4)\n",
    "t4 = Table(6)\n",
    "t5 = Table(7)\n",
    "t6 = Table(5)\n",
    "\n",
    "# Assign a few seats\n",
    "t2.assign_seat(\"Alice\")\n",
    "t3.assign_seat(\"Bob\")\n",
    "t4.assign_seat(\"John\")\n",
    "t5.assign_seat(\"Fred\")\n",
    "t6.assign_seat(\"Michael\")\n",
    "\n",
    "# Create an Openspace with tables\n",
    "office = Openspace([table, t2, t3, t4, t5, t6])\n",
    "\n",
    "# Check number of tables\n",
    "print(f\"Number of tables: {office.number_of_tables}.\\n\")\n",
    "office.display_tables()"
   ],
   "id": "da9d6a3628aaa815",
   "outputs": [
    {
     "name": "stdout",
     "output_type": "stream",
     "text": [
      "Alice has been seated at Table 2\n",
      "Bob has been seated at Table 3\n",
      "John has been seated at Table 4\n",
      "Fred has been seated at Table 5\n",
      "Michael has been seated at Table 6\n",
      "Number of tables: 6.\n",
      "\n",
      "Table 1 (Capacity : 4 | Free spots : 0)\n",
      "   Seat 1: Fred\n",
      "   Seat 2: Bob\n",
      "   Seat 3: Alice\n",
      "   Seat 4: John\n",
      "Table 2 (Capacity : 3 | Free spots : 2)\n",
      "   Seat 1: Alice\n",
      "   Seat 2: Empty\n",
      "   Seat 3: Empty\n",
      "Table 3 (Capacity : 4 | Free spots : 3)\n",
      "   Seat 1: Bob\n",
      "   Seat 2: Empty\n",
      "   Seat 3: Empty\n",
      "   Seat 4: Empty\n",
      "Table 4 (Capacity : 6 | Free spots : 5)\n",
      "   Seat 1: John\n",
      "   Seat 2: Empty\n",
      "   Seat 3: Empty\n",
      "   Seat 4: Empty\n",
      "   Seat 5: Empty\n",
      "   Seat 6: Empty\n",
      "Table 5 (Capacity : 7 | Free spots : 6)\n",
      "   Seat 1: Fred\n",
      "   Seat 2: Empty\n",
      "   Seat 3: Empty\n",
      "   Seat 4: Empty\n",
      "   Seat 5: Empty\n",
      "   Seat 6: Empty\n",
      "   Seat 7: Empty\n",
      "Table 6 (Capacity : 5 | Free spots : 4)\n",
      "   Seat 1: Michael\n",
      "   Seat 2: Empty\n",
      "   Seat 3: Empty\n",
      "   Seat 4: Empty\n",
      "   Seat 5: Empty\n"
     ]
    }
   ],
   "execution_count": 57
  }
 ],
 "metadata": {
  "kernelspec": {
   "name": "python3",
   "language": "python",
   "display_name": "Python 3 (ipykernel)"
  }
 },
 "nbformat": 4,
 "nbformat_minor": 5
}
