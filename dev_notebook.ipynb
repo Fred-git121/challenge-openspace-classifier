{
 "cells": [
  {
   "metadata": {
    "ExecuteTime": {
     "end_time": "2025-10-23T14:27:10.638395Z",
     "start_time": "2025-10-23T14:27:10.635285Z"
    }
   },
   "cell_type": "code",
   "source": [
    "from virtualenv.config.convert import BoolType\n",
    "\n",
    "new_collegues = [\"Aleksei\",\"Amine\",\"Anna\",\"Astha\",\"Brigitta\",\n",
    "                 \"Bryan\",\"Ena\",\"Esra\",\"Faranges\",\"Frédéric\",\n",
    "                 \"Hamideh\",\"Héloïse\",\"Imran\",\"Intan K.\",\n",
    "                 \"Jens\",\"Kristin\",\"Michiel\",\"Nancy\",\"Pierrick\",\n",
    "                 \"Sandrine\",\"Tim\",\"Viktor\",\"Welederufeal\",\"Živile\"]"
   ],
   "id": "a6e3cedf58f2c482",
   "outputs": [],
   "execution_count": 153
  },
  {
   "metadata": {},
   "cell_type": "markdown",
   "source": "## Step 1: Build a seat",
   "id": "27a28af9892a9668"
  },
  {
   "metadata": {
    "ExecuteTime": {
     "end_time": "2025-10-23T14:27:10.645697Z",
     "start_time": "2025-10-23T14:27:10.642995Z"
    }
   },
   "cell_type": "code",
   "source": [
    "class Seat:\n",
    "    def __init__(self):\n",
    "        self.free = True\n",
    "        self.occupant = None\n",
    "\n",
    "    def set_occupant(self, name):\n",
    "        if self.free:\n",
    "            self.occupant = name\n",
    "            self.free = False\n",
    "        else:\n",
    "            print(\"Seat is already taken.\")\n",
    "\n",
    "    def remove_occupant(self) -> str:\n",
    "        if not self.free:\n",
    "            print(f\"Removing occupant {self.occupant} from seat.\")\n",
    "            last_occupant = self.occupant\n",
    "            self.free = True\n",
    "            self.occupant = None\n",
    "            return last_occupant\n",
    "        else:\n",
    "            return \"The seat is already free.\"\n",
    "\n",
    "    def __str__(self):\n",
    "        return f\"Free seat? {self.free} | Occupant : {self.occupant}\"\n"
   ],
   "id": "5a0c12a2221274f5",
   "outputs": [],
   "execution_count": 154
  },
  {
   "metadata": {
    "ExecuteTime": {
     "end_time": "2025-10-23T14:27:10.651425Z",
     "start_time": "2025-10-23T14:27:10.649571Z"
    }
   },
   "cell_type": "code",
   "source": [
    "seat1 = Seat()\n",
    "seat1.set_occupant(\"Fred\")\n",
    "print(seat1)"
   ],
   "id": "aa5e807ab579f962",
   "outputs": [
    {
     "name": "stdout",
     "output_type": "stream",
     "text": [
      "Free seat? False | Occupant : Fred\n"
     ]
    }
   ],
   "execution_count": 155
  },
  {
   "metadata": {},
   "cell_type": "markdown",
   "source": "## Step 2: Build a table",
   "id": "8d8e61e6b2c0b550"
  },
  {
   "metadata": {
    "ExecuteTime": {
     "end_time": "2025-10-23T14:32:14.095671Z",
     "start_time": "2025-10-23T14:32:14.092392Z"
    }
   },
   "cell_type": "code",
   "source": [
    "class Table:\n",
    "    def __init__(self, capacity: int) -> None:\n",
    "        self.capacity = capacity\n",
    "        self.seats = [Seat() for _ in range(self.capacity)]\n",
    "    def has_free_spot(self) -> bool:\n",
    "        for seat in self.seats:\n",
    "            if seat.free:\n",
    "                return True\n",
    "        return False\n",
    "\n",
    "    def __str__(self):\n",
    "        seat_str = [str(i) for i in self.seats]\n",
    "        return f\"{'\\n'.join(seat_str)}\\nCapacity : {self.capacity}\"\n",
    "\n",
    "\n"
   ],
   "id": "da8cb28d7ea728f6",
   "outputs": [],
   "execution_count": 159
  },
  {
   "metadata": {
    "ExecuteTime": {
     "end_time": "2025-10-23T14:27:10.675205Z",
     "start_time": "2025-10-23T14:27:10.673500Z"
    }
   },
   "cell_type": "code",
   "source": [
    "# Code Testing\n",
    "table = Table(4)\n",
    "table.has_free_spot()\n",
    "\n",
    "print(table)"
   ],
   "id": "9bb2e1d4618f5148",
   "outputs": [
    {
     "name": "stdout",
     "output_type": "stream",
     "text": [
      "Free seat? True | Occupant : None\n",
      "Free seat? True | Occupant : None\n",
      "Free seat? True | Occupant : None\n",
      "Free seat? True | Occupant : None\n",
      "Capacity : 4\n"
     ]
    }
   ],
   "execution_count": 157
  }
 ],
 "metadata": {
  "kernelspec": {
   "name": "python3",
   "language": "python",
   "display_name": "Python 3 (ipykernel)"
  }
 },
 "nbformat": 4,
 "nbformat_minor": 5
}
